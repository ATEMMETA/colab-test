{
  "nbformat": 4,
  "nbformat_minor": 0,
  "metadata": {
    "colab": {
      "provenance": []
    },
    "kernelspec": {
      "name": "python3",
      "display_name": "Python 3"
    },
    "language_info": {
      "name": "python"
    }
  },
  "cells": [
    {
      "cell_type": "markdown",
      "source": [
        "# Minimal FaceGreeter Flask Test\n",
        "\n",
        "This notebook tests a basic Flask server in Google Colab to debug kernel crashes. It runs a simple Flask app with a `/hello` endpoint, without git clone, ngrok, or external dependencies beyond Flask. If stable, we'll add ngrok, git, and video processing.\n",
        "\n",
        "## Prerequisites\n",
        "- Google Colab environment with internet access.\n",
        "\n",
        "## Steps\n",
        "1. Install Flask.\n",
        "2. Create and run a basic Flask app.\n",
        "3. Monitor resources and check for kernel crashes.\n",
        "\n",
        "**Goal**: Confirm Flask runs without kernel crashes."
      ],
      "metadata": {
        "id": "project_description"
      }
    },
    {
      "cell_type": "code",
      "source": [
        "# Install Flask and monitor resources\n",
        "import os\n",
        "import psutil\n",
        "\n",
        "# Log initial resource usage\n",
        "print(f'Initial RAM: {psutil.virtual_memory().used / 1024**3:.2f} GB / {psutil.virtual_memory().total / 1024**3:.2f} GB')\n",
        "print(f'Initial CPU: {psutil.cpu_percent()}%')\n",
        "\n",
        "# Purge pip cache\n",
        "!pip cache purge\n",
        "\n",
        "# Install Flask\n",
        "!pip install --no-cache-dir flask==3.0.3\n",
        "\n",
        "# Verify installed packages\n",
        "!pip list | grep flask\n",
        "\n",
        "# Log resource usage after install\n",
        "print(f'Post-install RAM: {psutil.virtual_memory().used / 1024**3:.2f} GB / {psutil.virtual_memory().total / 1024**3:.2f} GB')\n",
        "print(f'Post-install CPU: {psutil.cpu_percent()}%')\n",
        "\n",
        "print('Flask installed. Proceed to the next cell to run the Flask app.')"
      ],
      "metadata": {
        "id": "install_flask"
      },
      "execution_count": null,
      "outputs": []
    },
    {
      "cell_type": "code",
      "source": [
        "# Run minimal Flask app\n",
        "from flask import Flask, jsonify\n",
        "import os\n",
        "import psutil\n",
        "import threading\n",
        "\n",
        "# Log resource usage before Flask\n",
        "print(f'Pre-Flask RAM: {psutil.virtual_memory().used / 1024**3:.2f} GB / {psutil.virtual_memory().total / 1024**3:.2f} GB')\n",
        "print(f'Pre-Flask CPU: {psutil.cpu_percent()}%')\n",
        "\n",
        "# Create Flask app\n",
        "app = Flask(__name__)\n",
        "\n",
        "@app.route('/hello', methods=['GET'])\n",
        "def hello():\n",
        "    return jsonify({\"success\": True, \"message\": \"Hello from Flask!\"})\n",
        "\n",
        "# Run Flask in a separate thread to avoid blocking the notebook\n",
        "def run_flask():\n",
        "    print('Starting Flask server on http://0.0.0.0:8000')\n",
        "    app.run(host='0.0.0.0', port=8000, debug=False, use_reloader=False)\n",
        "\n",
        "print('Starting Flask server...')\n",
        "flask_thread = threading.Thread(target=run_flask)\n",
        "flask_thread.start()\n",
        "\n",
        "# Wait briefly to ensure Flask starts\n",
        "import time\n",
        "time.sleep(5)\n",
        "\n",
        "# Check running processes and port\n",
        "os.system('ps aux | grep python')\n",
        "os.system('netstat -tuln | grep 8000')\n",
        "\n",
        "# Log resource usage after Flask\n",
        "print(f'Post-Flask RAM: {psutil.virtual_memory().used / 1024**3:.2f} GB / {psutil.virtual_memory().total / 1024**3:.2f} GB')\n",
        "print(f'Post-Flask CPU: {psutil.cpu_percent()}%')\n",
        "\n",
        "# Keep the notebook running\n",
        "print('Flask server running. Open http://<colab-ip>:8000/hello in a browser if accessible.')\n",
        "print('Press Ctrl+C in this cell to stop the Flask server.')\n",
        "try:\n",
        "    flask_thread.join()\n",
        "except KeyboardInterrupt:\n",
        "    print('Stopping Flask server...')\n",
        "    os.system('pkill python')\n",
        "    os.system('fuser -k 8000/tcp')"
      ],
      "metadata": {
        "id": "run_flask"
      },
      "execution_count": null,
      "outputs": []
    }
  ]
}
