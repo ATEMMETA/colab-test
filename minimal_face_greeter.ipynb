# Run Flask with ngrok
from pyngrok import ngrok
import os
import psutil
import threading
import time
from dotenv import load_dotenv

# Kill existing ngrok and Flask processes
os.system('pkill ngrok')
os.system('pkill python')
os.system('fuser -k 8000/tcp')

# Verify combined_app.py exists
if not os.path.exists('/content/ai-greeter-core/combined_app.py'):
    raise FileNotFoundError('combined_app.py not found. Ensure git clone succeeded or fallback files were created.')

# Load environment variables
load_dotenv('/content/ai-greeter-core/.env')
ngrok_token = os.getenv('NGROK_AUTHTOKEN')
if not ngrok_token:
    raise ValueError('NGROK_AUTHTOKEN not found in .env file.')

# Set ngrok auth token
ngrok.set_auth_token(ngrok_token)

# Log resource usage before Flask
print(f'Pre-Flask RAM: {psutil.virtual_memory().used / 1024**3:.2f} GB / {psutil.virtual_memory().total / 1024**3:.2f} GB')
print(f'Pre-Flask CPU: {psutil.cpu_percent()}%')

# Run Flask from combined_app.py in a thread
def run_flask():
    print('Starting Flask server on http://0.0.0.0:8000')
    os.system('python /content/ai-greeter-core/combined_app.py')

print('Starting Flask server...')
flask_thread = threading.Thread(target=run_flask)
flask_thread.start()

# Wait for Flask to start
time.sleep(5)

# Start ngrok tunnel
try:
    public_url = ngrok.connect(8000).public_url
    print(f'Flask API available at: {public_url}')
except Exception as e:
    print(f'Ngrok failed to start: {str(e)}')
    os.system('pkill python')
    os.system('pkill ngrok')
    os.system('fuser -k 8000/tcp')
    raise

# Check running processes and port
os.system('ps aux | grep python')
os.system('netstat -tuln | grep 8000')

# Log resource usage after Flask
print(f'Post-Flask RAM: {psutil.virtual_memory().used / 1024**3:.2f} GB / {psutil.virtual_memory().total / 1024**3:.2f} GB')
print(f'Post-Flask CPU: {psutil.cpu_percent()}%')

# Keep the notebook running
print(f'Flask server running. Test the API at {public_url}/hello.')
try:
    flask_thread.join()
except KeyboardInterrupt:
    print('Stopping Flask server...')
    os.system('pkill ngrok')
    os.system('pkill python')
    os.system('fuser -k 8000/tcp')
