{
  "nbformat": 4,
  "nbformat_minor": 0,
  "metadata": {
    "colab": {
      "provenance": []
    },
    "kernelspec": {
      "name": "python3",
      "display_name": "Python 3"
    },
    "language_info": {
      "name": "python"
    }
  },
  "cells": [
    {
      "cell_type": "markdown",
      "source": [
        "# Minimal FaceGreeter Flask with NGROK\n",
        "\n",
        "This notebook tests a basic Flask server in Google Colab with ngrok to debug connection issues. It runs a simple Flask app with a `/hello` endpoint, exposes it via ngrok, and monitors for kernel crashes. If stable, we'll add git clone, `.env`, and video processing.\n",
        "\n",
        "## Prerequisites\n",
        "- Google Colab environment with internet access.\n",
        "- `NGROK_AUTHTOKEN` stored in Colab Secrets.\n",
        "\n",
        "## Steps\n",
        "1. Install Flask and pyngrok.\n",
        "2. Create and run a basic Flask app.\n",
        "3. Expose the app via ngrok.\n",
        "4. Monitor resources and test the `/hello` endpoint.\n",
        "\n",
        "**Goal**: Confirm Flask runs and is accessible via ngrok."
      ],
      "metadata": {
        "id": "project_description"
      }
    },
    {
      "cell_type": "code",
      "source": [
        "# Install Flask, pyngrok, and monitor resources\n",
        "import os\n",
        "import psutil\n",
        "from google.colab import userdata\n",
        "\n",
        "# Log initial resource usage\n",
        "print(f'Initial RAM: {psutil.virtual_memory().used / 1024**3:.2f} GB / {psutil.virtual_memory().total / 1024**3:.2f} GB')\n",
        "print(f'Initial CPU: {psutil.cpu_percent()}%')\n",
        "\n",
        "# Check NGROK_AUTHTOKEN\n",
        "ngrok_token = userdata.get('NGROK_AUTHTOKEN')\n",
        "if not ngrok_token:\n",
        "    raise ValueError('NGROK_AUTHTOKEN not found in Colab Secrets.')\n",
        "\n",
        "# Purge pip cache\n",
        "!pip cache purge\n",
        "\n",
        "# Install Flask and pyngrok\n",
        "!pip install --no-cache-dir flask==3.0.3 pyngrok==7.1.6\n",
        "\n",
        "# Verify installed packages\n",
        "!pip list | grep -E 'flask|pyngrok'\n",
        "\n",
        "# Log resource usage after install\n",
        "print(f'Post-install RAM: {psutil.virtual_memory().used / 1024**3:.2f} GB / {psutil.virtual_memory().total / 1024**3:.2f} GB')\n",
        "print(f'Post-install CPU: {psutil.cpu_percent()}%')\n",
        "\n",
        "print('Flask and pyngrok installed. Proceed to the next cell to run the Flask app with ngrok.')"
      ],
      "metadata": {
        "id": "install_flask_ngrok"
      },
      "execution_count": null,
      "outputs": []
    },
    {
      "cell_type": "code",
      "source": [
        "# Run Flask with ngrok\n",
        "from flask import Flask, jsonify\n",
        "from pyngrok import ngrok\n",
        "import os\n",
        "import psutil\n",
        "import threading\n",
        "import time\n",
        "from google.colab import userdata\n",
        "\n",
        "# Log resource usage before Flask\n",
        "print(f'Pre-Flask RAM: {psutil.virtual_memory().used / 1024**3:.2f} GB / {psutil.virtual_memory().total / 1024**3:.2f} GB')\n",
        "print(f'Pre-Flask CPU: {psutil.cpu_percent()}%')\n",
        "\n",
        "# Get NGROK_AUTHTOKEN\n",
        "ngrok_token = userdata.get('NGROK_AUTHTOKEN')\n",
        "if not ngrok_token:\n",
        "    raise ValueError('NGROK_AUTHTOKEN not found in Colab Secrets.')\n",
        "\n",
        "# Set ngrok auth token\n",
        "ngrok.set_auth_token(ngrok_token)\n",
        "\n",
        "# Create Flask app\n",
        "app = Flask(__name__)\n",
        "\n",
        "@app.route('/hello', methods=['GET'])\n",
        "def hello():\n",
        "    return jsonify({\"success\": True, \"message\": \"Hello from Flask!\"})\n",
        "\n",
        "# Run Flask in a separate thread\n",
        "def run_flask():\n",
        "    print('Starting Flask server on http://0.0.0.0:8000')\n",
        "    app.run(host='0.0.0.0', port=8000, debug=False, use_reloader=False)\n",
        "\n",
        "print('Starting Flask server...')\n",
        "flask_thread = threading.Thread(target=run_flask)\n",
        "flask_thread.start()\n",
        "\n",
        "# Wait for Flask to start\n",
        "time.sleep(5)\n",
        "\n",
        "# Start ngrok tunnel\n",
        "try:\n",
        "    public_url = ngrok.connect(8000).public_url\n",
        "    print(f'Flask API available at: {public_url}')\n",
        "except Exception as e:\n",
        "    print(f'Ngrok failed to start: {str(e)}')\n",
        "    os.system('pkill python')\n",
        "    os.system('fuser -k 8000/tcp')\n",
        "    raise\n",
        "\n",
        "# Check running processes and port\n",
        "os.system('ps aux | grep python')\n",
        "os.system('netstat -tuln | grep 8000')\n",
        "\n",
        "# Log resource usage after Flask\n",
        "print(f'Post-Flask RAM: {psutil.virtual_memory().used / 1024**3:.2f} GB / {psutil.virtual_memory().total / 1024**3:.2f} GB')\n",
        "print(f'Post-Flask CPU: {psutil.cpu_percent()}%')\n",
        "\n",
        "# Keep the notebook running\n",
        "print(f'Flask server running. Test the API at {public_url}/hello.')\n",
        "print('Press Ctrl+C in this cell to stop the Flask server.')\n",
        "try:\n",
        "    flask_thread.join()\n",
        "except KeyboardInterrupt:\n",
        "    print('Stopping Flask server...')\n",
        "    os.system('pkill python')\n",
        "    os.system('pkill ngrok')\n",
        "    os.system('fuser -k 8000/tcp')"
      ],
      "metadata": {
        "id": "run_flask_ngrok"
      },
      "execution_count": null,
      "outputs": []
    }
  ]
}
